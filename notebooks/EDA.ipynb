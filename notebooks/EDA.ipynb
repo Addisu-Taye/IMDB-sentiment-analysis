{
 "cells": [
  {
   "cell_type": "code",
   "execution_count": null,
   "metadata": {
    "vscode": {
     "languageId": "plaintext"
    }
   },
   "outputs": [],
   "source": [
    "import pandas as pd\n",
    "import matplotlib.pyplot as plt\n",
    "from wordcloud import WordCloud\n",
    "\n",
    "# Load data\n",
    "df = pd.read_csv('../data/imdb_dataset.csv')\n",
    "\n",
    "# Basic info\n",
    "print(df.info())\n",
    "print(df.sentiment.value_counts())\n",
    "\n",
    "# Word clouds\n",
    "for sentiment in ['positive', 'negative']:\n",
    "    text = ' '.join(df[df.sentiment==sentiment]['review'])\n",
    "    wordcloud = WordCloud(width=800, height=400).generate(text)\n",
    "    plt.figure(figsize=(10,5))\n",
    "    plt.imshow(wordcloud)\n",
    "    plt.title(sentiment)\n",
    "    plt.axis('off')\n",
    "    plt.show()\n",
    "\n",
    "# Review length analysis\n",
    "df['review_length'] = df['review'].apply(len)\n",
    "df['review_length'].hist(by=df['sentiment'], bins=30, figsize=(12,4))"
   ]
  }
 ],
 "metadata": {
  "language_info": {
   "name": "python"
  }
 },
 "nbformat": 4,
 "nbformat_minor": 5
}
